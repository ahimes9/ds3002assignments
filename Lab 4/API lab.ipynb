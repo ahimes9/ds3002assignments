{
 "cells": [
  {
   "cell_type": "code",
   "execution_count": null,
   "metadata": {},
   "outputs": [],
   "source": [
    "# my API key\n",
    "#JY7RAX9raf4mrbfTF1J7oaez0kk3rOBb73bN3GX7\n"
   ]
  },
  {
   "cell_type": "code",
   "execution_count": 1,
   "metadata": {},
   "outputs": [],
   "source": [
    "import json\n",
    "import requests\n",
    "import sys"
   ]
  },
  {
   "cell_type": "code",
   "execution_count": 4,
   "metadata": {},
   "outputs": [
    {
     "name": "stdout",
     "output_type": "stream",
     "text": [
      "Error: Stock Not Found\n"
     ]
    }
   ],
   "source": [
    "url = \"https://yfapi.net/v6/finance/quote\"\n",
    "\n",
    "stocks = sys.argv[1]\n",
    "\n",
    "querystring = {\"symbols\":sys.argv[1]}\n",
    "\n",
    "headers = {\n",
    "    'x-api-key': \"JY7RAX9raf4mrbfTF1J7oaez0kk3rOBb73bN3GX7\"\n",
    "    }\n",
    "\n",
    "response = requests.request(\"GET\", url, headers=headers, params=querystring)\n",
    "\n",
    "data = json.loads(response.text)\n",
    "\n",
    "try:\n",
    "    stock_name = data['quoteResponse']['result'][0]['longName']\n",
    "    price = data['quoteResponse']['result'][0]['longName']\n",
    "    print(stock_name, \": \", price)\n",
    "except IndexError:\n",
    "    print(\"Error: Stock Not Found\")"
   ]
  },
  {
   "cell_type": "code",
   "execution_count": null,
   "metadata": {},
   "outputs": [],
   "source": []
  },
  {
   "cell_type": "code",
   "execution_count": null,
   "metadata": {},
   "outputs": [],
   "source": []
  },
  {
   "cell_type": "code",
   "execution_count": null,
   "metadata": {},
   "outputs": [],
   "source": []
  }
 ],
 "metadata": {
  "kernelspec": {
   "display_name": "Python 3",
   "language": "python",
   "name": "python3"
  },
  "language_info": {
   "codemirror_mode": {
    "name": "ipython",
    "version": 3
   },
   "file_extension": ".py",
   "mimetype": "text/x-python",
   "name": "python",
   "nbconvert_exporter": "python",
   "pygments_lexer": "ipython3",
   "version": "3.8.3"
  }
 },
 "nbformat": 4,
 "nbformat_minor": 4
}
